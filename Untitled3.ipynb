{
 "cells": [
  {
   "cell_type": "code",
   "execution_count": 1,
   "id": "4fe48f06",
   "metadata": {},
   "outputs": [
    {
     "ename": "ModuleNotFoundError",
     "evalue": "No module named 'jetbot'",
     "output_type": "error",
     "traceback": [
      "\u001b[1;31m---------------------------------------------------------------------------\u001b[0m",
      "\u001b[1;31mModuleNotFoundError\u001b[0m                       Traceback (most recent call last)",
      "Cell \u001b[1;32mIn[1], line 1\u001b[0m\n\u001b[1;32m----> 1\u001b[0m \u001b[38;5;28;01mfrom\u001b[39;00m \u001b[38;5;21;01mjetbot\u001b[39;00m \u001b[38;5;28;01mimport\u001b[39;00m Camera\n\u001b[0;32m      2\u001b[0m \u001b[38;5;28;01mimport\u001b[39;00m \u001b[38;5;21;01mipywidgets\u001b[39;00m\u001b[38;5;21;01m.\u001b[39;00m\u001b[38;5;21;01mwidgets\u001b[39;00m \u001b[38;5;28;01mas\u001b[39;00m \u001b[38;5;21;01mwidgets\u001b[39;00m\n\u001b[0;32m      3\u001b[0m \u001b[38;5;28;01mfrom\u001b[39;00m \u001b[38;5;21;01mIPython\u001b[39;00m\u001b[38;5;21;01m.\u001b[39;00m\u001b[38;5;21;01mdisplay\u001b[39;00m \u001b[38;5;28;01mimport\u001b[39;00m display\n",
      "\u001b[1;31mModuleNotFoundError\u001b[0m: No module named 'jetbot'"
     ]
    }
   ],
   "source": [
    "from jetbot import Camera\n",
    "import ipywidgets.widgets as widgets\n",
    "from IPython.display import display\n",
    "import traitlets\n",
    "from jetbot import bgr8_to_jpeg\n",
    "import torch\n",
    "import torchvision\n",
    "import ipywidgets\n",
    "import torchvision.models as models\n",
    "from utils import preprocess\n",
    "import torch.nn.functional as F\n",
    "import time\n",
    "from jetbot import Robot\n",
    "\n",
    "# 1. 모델을 CPU로 이동\n",
    "device = torch.device('cpu')\n",
    "\n",
    "# 2. CUDA를 사용하지 않으므로 모델을 CPU로 이동\n",
    "model = models.resnet18(pretrained=True)\n",
    "model.fc = torch.nn.Linear(model.fc.in_features, 2)\n",
    "model = model.to(device)\n",
    "\n",
    "# 3. 그라디언트 비활성화 함수 추가\n",
    "def inference(model, x):\n",
    "    with torch.no_grad():\n",
    "        y = model(x)\n",
    "    return y\n",
    "\n",
    "camera = Camera.instance(width=224, height=224)\n",
    "image = widgets.Image(format='jpeg', width=224, height=224)\n",
    "display(image)\n",
    "camera_link = traitlets.dlink((camera, 'value'), (image, 'value'), transform=bgr8_to_jpeg)\n",
    "\n",
    "robot = Robot()\n",
    "\n",
    "def update(change):\n",
    "    global robot\n",
    "    x = change['new']\n",
    "    x = preprocess(x)\n",
    "    \n",
    "    # 4. 모델 추론을 위해 inference 함수 사용\n",
    "    y = inference(model, x)\n",
    "    \n",
    "    y = F.softmax(y, dim=1)\n",
    "    \n",
    "    prob_circle = float(y.flatten()[1])\n",
    "    prob_square = float(y.flatten()[0])\n",
    "    \n",
    "    if prob_circle > 0.6:\n",
    "        robot.set_motors(1, 1)\n",
    "        robot.right(0.5)\n",
    "        time.sleep(1.78)\n",
    "        robot.stop()\n",
    "    \n",
    "    time.sleep(0.001)\n",
    "\n",
    "update({'new': camera.value})\n",
    "camera.observe(update, names='value')\n",
    "display(image)\n"
   ]
  },
  {
   "cell_type": "code",
   "execution_count": null,
   "id": "f7084bcc",
   "metadata": {},
   "outputs": [],
   "source": []
  }
 ],
 "metadata": {
  "kernelspec": {
   "display_name": "Python 3 (ipykernel)",
   "language": "python",
   "name": "python3"
  },
  "language_info": {
   "codemirror_mode": {
    "name": "ipython",
    "version": 3
   },
   "file_extension": ".py",
   "mimetype": "text/x-python",
   "name": "python",
   "nbconvert_exporter": "python",
   "pygments_lexer": "ipython3",
   "version": "3.10.9"
  }
 },
 "nbformat": 4,
 "nbformat_minor": 5
}
