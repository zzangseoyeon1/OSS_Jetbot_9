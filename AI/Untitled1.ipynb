{
 "cells": [
  {
   "cell_type": "code",
   "execution_count": 9,
   "metadata": {},
   "outputs": [
    {
     "data": {
      "application/vnd.jupyter.widget-view+json": {
       "model_id": "ea5afecffd5f46808965ed43c73bd678",
       "version_major": 2,
       "version_minor": 0
      },
      "text/plain": [
       "HBox(children=(Image(value=b'\\xff\\xd8\\xff\\xe0\\x00\\x10JFIF\\x00\\x01\\x01\\x00\\x00\\x01\\x00\\x01\\x00\\x00\\xff\\xdb\\x00C…"
      ]
     },
     "metadata": {},
     "output_type": "display_data"
    },
    {
     "name": "stdout",
     "output_type": "stream",
     "text": [
      "tensor([[9.9939e-01, 6.0529e-04]], device='cuda:0', grad_fn=<SoftmaxBackward>)\n"
     ]
    }
   ],
   "source": [
    "from jetbot import Camera\n",
    "import ipywidgets.widgets as widgets\n",
    "from IPython.display import display\n",
    "import traitlets\n",
    "from jetbot import bgr8_to_jpeg\n",
    "import torch\n",
    "import torchvision\n",
    "import ipywidgets\n",
    "import torchvision.models as models\n",
    "from utils import preprocess\n",
    "import torch.nn.functional as F\n",
    "import time\n",
    "from jetbot import Robot\n",
    "\n",
    "camera = Camera.instance(width=224, height=224)\n",
    "image = widgets.Image(format='jpeg',width=224, height=224)\n",
    "circle_slider = widgets.FloatSlider(description='circle',min=0.0, max=1.0, orientation='vertical')\n",
    "square_slider = widgets.FloatSlider(description='square',min=0.0, max=1.0, orientation='vertical')\n",
    "\n",
    "\n",
    "model = models.resnet18(pretrained=True)\n",
    "model.fc = torch.nn.Linear(model.fc.in_features, 2)\n",
    "\n",
    "model.load_state_dict(torch.load('my_model.pth'))\n",
    "device = torch.device('cuda')\n",
    "model = model.to(device)\n",
    "\n",
    "\n",
    "robot = Robot()\n",
    "\n",
    "def update(change) :\n",
    "    global blocked_slider, robot\n",
    "    x = change['new']\n",
    "    x = preprocess(x)\n",
    "    y = model(x)\n",
    "    \n",
    "    y = F.softmax(y, dim=1)\n",
    "    print(y)\n",
    "    prob_circle = float(y.flatten()[1])\n",
    "    prob_square = float(y.flatten()[0])\n",
    "    \n",
    "    circle_slider.value = prob_circle\n",
    "    square_slider.value = prob_square\n",
    "    \n",
    "    if prob_circle > 0.6 :\n",
    "        time.sleep(5)\n",
    "        robot.forward(1)\n",
    "        time.sleep(3)\n",
    "        robot.stop()\n",
    "        robot.up(1)\n",
    "        time.sleep(3)\n",
    "        robot.stop()\n",
    "        robot.right(0.75)\n",
    "        time.sleep(3)\n",
    "        robot.stop()\n",
    "        robot.backward(1)\n",
    "        time.sleep(3)\n",
    "        robot.stop()\n",
    "        robot.down(1)\n",
    "        time.sleep(3)\n",
    "        robot.stop()\n",
    "    if prob_square > 0.6 :\n",
    "        robot.set_motors(1, 1)\n",
    "        robot.right(0.5)\n",
    "        time.sleep(14)\n",
    "    robot.stop()\n",
    "    \n",
    "\n",
    "camera_link = traitlets.dlink((camera, 'value'), (image, 'value'), transform=bgr8_to_jpeg)\n",
    "display(widgets.HBox([image, circle_slider, square_slider]))\n",
    "update({'new': camera.value})\n",
    "camera.observe(update, names='value')\n"
   ]
  },
  {
   "cell_type": "code",
   "execution_count": 4,
   "metadata": {},
   "outputs": [],
   "source": [
    "robot.stop()"
   ]
  },
  {
   "cell_type": "code",
   "execution_count": null,
   "metadata": {},
   "outputs": [],
   "source": []
  }
 ],
 "metadata": {
  "kernelspec": {
   "display_name": "Python 3",
   "language": "python",
   "name": "python3"
  },
  "language_info": {
   "codemirror_mode": {
    "name": "ipython",
    "version": 3
   },
   "file_extension": ".py",
   "mimetype": "text/x-python",
   "name": "python",
   "nbconvert_exporter": "python",
   "pygments_lexer": "ipython3",
   "version": "3.6.9"
  }
 },
 "nbformat": 4,
 "nbformat_minor": 4
}
