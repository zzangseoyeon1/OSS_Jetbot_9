{
 "cells": [
  {
   "cell_type": "code",
   "execution_count": 13,
   "metadata": {},
   "outputs": [
    {
     "data": {
      "application/vnd.jupyter.widget-view+json": {
       "model_id": "ea3fca0a373c424980f9984ad301b3ac",
       "version_major": 2,
       "version_minor": 0
      },
      "text/plain": [
       "Image(value=b'\\xff\\xd8\\xff\\xe0\\x00\\x10JFIF\\x00\\x01\\x01\\x00\\x00\\x01\\x00\\x01\\x00\\x00\\xff\\xdb\\x00C\\x00\\x02\\x01\\x0…"
      ]
     },
     "metadata": {},
     "output_type": "display_data"
    }
   ],
   "source": [
    "from jetbot import Camera\n",
    "import ipywidgets.widgets as widgets\n",
    "from IPython.display import display\n",
    "import traitlets\n",
    "from jetbot import bgr8_to_jpeg\n",
    "\n",
    "camera = Camera.instance(width=224, height=224)\n",
    "image = widgets.Image(format='jpeg',width=224, height=224)\n",
    "camera_link = traitlets.dlink((camera, 'value'), (image, 'value'), transform=bgr8_to_jpeg)\n",
    "display(image)"
   ]
  },
  {
   "cell_type": "code",
   "execution_count": 14,
   "metadata": {},
   "outputs": [
    {
     "name": "stdout",
     "output_type": "stream",
     "text": [
      "Directories not created because they already exist\n"
     ]
    }
   ],
   "source": [
    "import os\n",
    "\n",
    "red_dir = './dataset/red'\n",
    "orange_dir = './dataset/orange'\n",
    "green_dir = './dataset/green'\n",
    "\n",
    "try :\n",
    "    os.makedirs(red_dir)\n",
    "    os.makedirs(orange_dir)\n",
    "    os.makedirs(green_dir)\n",
    "except FileExistsError:\n",
    "    print(\"Directories not created because they already exist\")"
   ]
  },
  {
   "cell_type": "code",
   "execution_count": 15,
   "metadata": {},
   "outputs": [
    {
     "data": {
      "application/vnd.jupyter.widget-view+json": {
       "model_id": "a6c092551d0c49e4b7f725f67bc25b76",
       "version_major": 2,
       "version_minor": 0
      },
      "text/plain": [
       "HBox(children=(IntText(value=41, layout=Layout(height='64px', width='128px')), Button(button_style='success', …"
      ]
     },
     "metadata": {},
     "output_type": "display_data"
    },
    {
     "data": {
      "application/vnd.jupyter.widget-view+json": {
       "model_id": "3256c204f4e241b4b1323b36c1d203ad",
       "version_major": 2,
       "version_minor": 0
      },
      "text/plain": [
       "HBox(children=(IntText(value=41, layout=Layout(height='64px', width='128px')), Button(button_style='success', …"
      ]
     },
     "metadata": {},
     "output_type": "display_data"
    },
    {
     "data": {
      "application/vnd.jupyter.widget-view+json": {
       "model_id": "95210710038e421cb52806a8efa828a4",
       "version_major": 2,
       "version_minor": 0
      },
      "text/plain": [
       "HBox(children=(IntText(value=41, layout=Layout(height='64px', width='128px')), Button(button_style='success', …"
      ]
     },
     "metadata": {},
     "output_type": "display_data"
    }
   ],
   "source": [
    "button_layout = widgets.Layout(width='128px', height='64px')\n",
    "red_button = widgets.Button(description='add RED', button_style='success'\n",
    "                           , layout = button_layout)\n",
    "red_button.style.button_color = 'red'\n",
    "\n",
    "orange_button = widgets.Button(description='add ORANGE', button_style='success'\n",
    "                           , layout = button_layout)\n",
    "orange_button.style.button_color = 'orange'\n",
    "\n",
    "green_button = widgets.Button(description='add GREEN', button_style='success'\n",
    "                           , layout = button_layout)\n",
    "green_button.style.button_color = 'green'\n",
    "\n",
    "\n",
    "red_count = widgets.IntText(layout=button_layout, value=len(os.listdir(red_dir)))\n",
    "orange_count = widgets.IntText(layout=button_layout, value=len(os.listdir(orange_dir)))\n",
    "green_count = widgets.IntText(layout=button_layout, value=len(os.listdir(green_dir)))\n",
    "\n",
    "display(widgets.HBox([red_count, red_button]))\n",
    "display(widgets.HBox([orange_count, orange_button]))\n",
    "display(widgets.HBox([green_count, green_button]))"
   ]
  },
  {
   "cell_type": "code",
   "execution_count": 16,
   "metadata": {},
   "outputs": [],
   "source": [
    "from uuid import uuid1\n",
    "from RGB_Lib import Programing_RGB\n",
    "RGB = Programing_RGB()\n",
    "\n",
    "def save_snapshot(directory) :\n",
    "    image_path = os.path.join(directory, str(uuid1()) + '.jpg')\n",
    "    with open(image_path, 'wb') as f :\n",
    "        f.write(image.value)\n",
    "    \n",
    "def save_red() :\n",
    "    global red_dir, red_count\n",
    "    \n",
    "    save_snapshot(red_dir)\n",
    "    red_count.value = len(os.listdir(red_dir))\n",
    "    RGB.Set_All_RGB(0xFF, 0x00, 0x00)\n",
    "    time.sleep(0.5)\n",
    "    \n",
    "    \n",
    "def save_orange() :\n",
    "    global orange_dir, orange_count\n",
    "    \n",
    "    save_snapshot(orange_dir)\n",
    "    orange_count.value = len(os.listdir(orange_dir))\n",
    "    RGB.Set_All_RGB(0xFF, 0xA5, 0x00)\n",
    "    time.sleep(0.5)\n",
    "    \n",
    "def save_green() :\n",
    "    global green_dir, green_count\n",
    "    \n",
    "    save_snapshot(green_dir)\n",
    "    green_count.value = len(os.listdir(green_dir))\n",
    "    RGB.Set_All_RGB(0x00, 0xFF, 0x00)\n",
    "    time.sleep(0.5)\n",
    "    \n",
    "\n",
    "    \n",
    "red_button.on_click(lambda x: save_red())\n",
    "orange_button.on_click(lambda x: save_orange())\n",
    "green_button.on_click(lambda x: save_green())"
   ]
  },
  {
   "cell_type": "code",
   "execution_count": 17,
   "metadata": {},
   "outputs": [
    {
     "data": {
      "application/vnd.jupyter.widget-view+json": {
       "model_id": "ea3fca0a373c424980f9984ad301b3ac",
       "version_major": 2,
       "version_minor": 0
      },
      "text/plain": [
       "Image(value=b'\\xff\\xd8\\xff\\xe0\\x00\\x10JFIF\\x00\\x01\\x01\\x00\\x00\\x01\\x00\\x01\\x00\\x00\\xff\\xdb\\x00C\\x00\\x02\\x01\\x0…"
      ]
     },
     "metadata": {},
     "output_type": "display_data"
    },
    {
     "data": {
      "application/vnd.jupyter.widget-view+json": {
       "model_id": "f52be963d0394a228e8de7c35de3c82d",
       "version_major": 2,
       "version_minor": 0
      },
      "text/plain": [
       "HBox(children=(IntText(value=41, layout=Layout(height='64px', width='128px')), Button(button_style='success', …"
      ]
     },
     "metadata": {},
     "output_type": "display_data"
    },
    {
     "data": {
      "application/vnd.jupyter.widget-view+json": {
       "model_id": "79f73961efd34f3899fc307f8ab00e86",
       "version_major": 2,
       "version_minor": 0
      },
      "text/plain": [
       "HBox(children=(IntText(value=41, layout=Layout(height='64px', width='128px')), Button(button_style='success', …"
      ]
     },
     "metadata": {},
     "output_type": "display_data"
    },
    {
     "data": {
      "application/vnd.jupyter.widget-view+json": {
       "model_id": "d9b9fc594efa4c4f9bd8163ec6f8a881",
       "version_major": 2,
       "version_minor": 0
      },
      "text/plain": [
       "HBox(children=(IntText(value=41, layout=Layout(height='64px', width='128px')), Button(button_style='success', …"
      ]
     },
     "metadata": {},
     "output_type": "display_data"
    }
   ],
   "source": [
    "display(image)\n",
    "display(widgets.HBox([red_count, red_button]))\n",
    "display(widgets.HBox([orange_count, orange_button]))\n",
    "display(widgets.HBox([green_count, green_button]))"
   ]
  },
  {
   "cell_type": "code",
   "execution_count": null,
   "metadata": {},
   "outputs": [],
   "source": []
  }
 ],
 "metadata": {
  "kernelspec": {
   "display_name": "Python 3",
   "language": "python",
   "name": "python3"
  },
  "language_info": {
   "codemirror_mode": {
    "name": "ipython",
    "version": 3
   },
   "file_extension": ".py",
   "mimetype": "text/x-python",
   "name": "python",
   "nbconvert_exporter": "python",
   "pygments_lexer": "ipython3",
   "version": "3.6.9"
  }
 },
 "nbformat": 4,
 "nbformat_minor": 4
}
